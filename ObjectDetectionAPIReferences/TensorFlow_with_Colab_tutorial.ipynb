{
  "nbformat": 4,
  "nbformat_minor": 0,
  "metadata": {
    "colab": {
      "name": "TensorFlow_with_Colab_tutorial.ipynb",
      "provenance": [],
      "collapsed_sections": []
    },
    "kernelspec": {
      "name": "python3",
      "display_name": "Python 3"
    },
    "accelerator": "GPU"
  },
  "cells": [
    {
      "cell_type": "markdown",
      "metadata": {
        "id": "KfeWYiT6aNDa",
        "colab_type": "text"
      },
      "source": [
        "**TensorFlow 2 Object Detection API with Google Colab**\n",
        "\n",
        "Author: Nisarg Kapkar\n",
        "\n",
        "Link to [Medium Article](https://medium.com/@nisargkapkar/tensorflow-2-object-detection-api-with-google-colab-b2af171e81cc?source=friends_link&sk=0bb205df0e1c29a2e78c28671ddf4494)! \n",
        "\n",
        "NOT: Use this NoteBook in association with the mentioned Medium article, the article contains detailed information (which is not mentioned in this NoteBook) for Step 1, Step 2 and Step 13!\n",
        "\n",
        "Link to [GitHub Repository](https://github.com/Nkap23/TensorFlow_with_Colab_tutorial)!"
      ]
    },
    {
      "cell_type": "markdown",
      "metadata": {
        "id": "RAGVzME9DIPn",
        "colab_type": "text"
      },
      "source": [
        "Step 1- Prerequisites(Gather/Label images,Create label_map...)\n",
        "\n",
        "Refer the mentioned [Medium article](https://medium.com/@nisargkapkar/tensorflow-2-object-detection-api-with-google-colab-b2af171e81cc?source=friends_link&sk=0bb205df0e1c29a2e78c28671ddf4494) for more details!"
      ]
    },
    {
      "cell_type": "markdown",
      "metadata": {
        "id": "NGr1XCdZMVGL",
        "colab_type": "text"
      },
      "source": [
        "Step 2- Set up the directory structure on Google Drive.\n",
        "\n",
        "Refer the mentioned [Medium article](https://medium.com/@nisargkapkar/tensorflow-2-object-detection-api-with-google-colab-b2af171e81cc?source=friends_link&sk=0bb205df0e1c29a2e78c28671ddf4494) for more details!"
      ]
    },
    {
      "cell_type": "markdown",
      "metadata": {
        "id": "O5RkAC6P7CKg",
        "colab_type": "text"
      },
      "source": [
        "Step 3- Select Hardware Accelerator.\n",
        "\n",
        "On Colab, go to Runtime->Change Runtime Type and select Hardware accelerator as GPU."
      ]
    },
    {
      "cell_type": "markdown",
      "metadata": {
        "id": "BWBi1hxcP9io",
        "colab_type": "text"
      },
      "source": [
        "NOTE:\n",
        "If you have given different names to your files and folders, change the paths in cells below according to your files and folders!"
      ]
    },
    {
      "cell_type": "code",
      "metadata": {
        "id": "3Si3sOwi7e06",
        "colab_type": "code",
        "colab": {}
      },
      "source": [
        "#Step 4- Mount Google Drive.\n",
        "\n",
        "from google.colab import drive\n",
        "drive.mount('/content/gdrive')"
      ],
      "execution_count": null,
      "outputs": []
    },
    {
      "cell_type": "code",
      "metadata": {
        "id": "0dW4lm8371iZ",
        "colab_type": "code",
        "colab": {}
      },
      "source": [
        "#Step 5- Download TensorFlow Model Garden.\n",
        "\n",
        "#cd into the TensorFlow directory in your Google Drive\n",
        "%cd '/content/gdrive/My Drive/TensorFlow'\n",
        "\n",
        "#and clone the TensorFlow Model Garden repository\n",
        "!git clone https://github.com/tensorflow/models.git"
      ],
      "execution_count": null,
      "outputs": []
    },
    {
      "cell_type": "code",
      "metadata": {
        "id": "So0uPn6C8j-Z",
        "colab_type": "code",
        "colab": {}
      },
      "source": [
        "#Step 6- Install some required libraries and tools.\n",
        "\n",
        "!apt-get install protobuf-compiler python-lxml python-pil\n",
        "!pip install Cython pandas tf-slim lvis"
      ],
      "execution_count": null,
      "outputs": []
    },
    {
      "cell_type": "code",
      "metadata": {
        "id": "0BI9kNtN9Hca",
        "colab_type": "code",
        "colab": {}
      },
      "source": [
        "#Step 7- Compile the Protobuf libraries.\n",
        "\n",
        "#cd into 'TensorFlow/models/research'\n",
        "%cd '/content/gdrive/My Drive/TensorFlow/models/research/'\n",
        "!protoc object_detection/protos/*.proto --python_out=."
      ],
      "execution_count": null,
      "outputs": []
    },
    {
      "cell_type": "code",
      "metadata": {
        "id": "wEAg3ksA9Pih",
        "colab_type": "code",
        "colab": {}
      },
      "source": [
        "#Step 8- Set the environment.\n",
        "\n",
        "import os\n",
        "import sys\n",
        "os.environ['PYTHONPATH']+=\":/content/gdrive/My Drive/TensorFlow/models\"\n",
        "sys.path.append(\"/content/gdrive/My Drive/TensorFlow/models/research\")"
      ],
      "execution_count": null,
      "outputs": []
    },
    {
      "cell_type": "code",
      "metadata": {
        "id": "UT9-acjE9d2K",
        "colab_type": "code",
        "colab": {}
      },
      "source": [
        "#Step 9- Build and Install setup.py.\n",
        "\n",
        "!python setup.py build\n",
        "!python setup.py install"
      ],
      "execution_count": null,
      "outputs": []
    },
    {
      "cell_type": "code",
      "metadata": {
        "id": "7M5qUba89u3S",
        "colab_type": "code",
        "colab": {}
      },
      "source": [
        "#Step 10- Test the installation.\n",
        "\n",
        "#cd into 'TensorFlow/models/research/object_detection/builders/'\n",
        "%cd '/content/gdrive/My Drive/TensorFlow/models/research/object_detection/builders/'\n",
        "!python model_builder_tf2_test.py\n",
        "from object_detection.utils import label_map_util\n",
        "from object_detection.utils import visualization_utils as viz_utils\n",
        "print('Done')"
      ],
      "execution_count": null,
      "outputs": []
    },
    {
      "cell_type": "markdown",
      "metadata": {
        "id": "vQ9iPmLFEQJi",
        "colab_type": "text"
      },
      "source": [
        "NOTE:\n",
        "\n",
        "You should have the images in test and train folder (with their corresponding XML files) and label_map.pbtxt file ready in respective directories.\n",
        "\n",
        "You should also have the generate_tfrecord.py in your preprocessing directory.\n",
        "\n",
        "If you don't have these files ready, go back to Step 1 and finish downloading required files."
      ]
    },
    {
      "cell_type": "code",
      "metadata": {
        "id": "h5C5-PCp-elV",
        "colab_type": "code",
        "colab": {}
      },
      "source": [
        "#Step 11- Generate TFrecords.\n",
        "\n",
        "#cd into preprocessing directory\n",
        "%cd '/content/gdrive/My Drive/TensorFlow/scripts/preprocessing'\n",
        "\n",
        "#run the cell to generate test.record and train.record\n",
        "!python generate_tfrecord.py -x '/content/gdrive/My Drive/TensorFlow/workspace/training_demo/images/train' -l '/content/gdrive/My Drive/TensorFlow/workspace/training_demo/annotations/label_map.pbtxt' -o '/content/gdrive/My Drive/TensorFlow/workspace/training_demo/annotations/train.record'\n",
        "!python generate_tfrecord.py -x '/content/gdrive/My Drive/TensorFlow/workspace/training_demo/images/test' -l '/content/gdrive/My Drive/TensorFlow/workspace/training_demo/annotations/label_map.pbtxt' -o '/content/gdrive/My Drive/TensorFlow/workspace/training_demo/annotations/test.record'\n",
        "\n",
        "# !python generate_tfrecord.py -x '[path_to_train_folder]' -l '[path_to_annotations_folder]/label_map.pbtxt' -o '[path_to_annotations_folder]/train.record'\n",
        "# !python generate_tfrecord.py -x '[path_to_test_folder]' -l '[path_to_annotations_folder]/label_map.pbtxt' -o '[path_to_annotations_folder]/test.record'\n"
      ],
      "execution_count": null,
      "outputs": []
    },
    {
      "cell_type": "markdown",
      "metadata": {
        "id": "vX3VCP9HJzTL",
        "colab_type": "text"
      },
      "source": [
        "NOTE:\n",
        "\n",
        "If you haven't downloaded any pre-trained model yet, go back to Step 1 and finish downloading any pre-trained model of your choice.\n",
        "\n",
        "We are almost ready to start our model training, just a few more steps before we start our model training!"
      ]
    },
    {
      "cell_type": "markdown",
      "metadata": {
        "id": "Ql7XBP2VOhcV",
        "colab_type": "text"
      },
      "source": [
        "Step 12- Copying some files\n",
        "\n",
        "\n",
        "*   Copy the \"model_main_tf2.py\" file from   \"TensorFlow\\models\\research\\object_detection\" and paste it into training_demo. We will need this file for training the model.\n",
        "\n",
        "*   Copy the \"exporter_main_v2.py\" file from \"TensorFlow\\models\\research\\object_detection\" and paste it into training_demo.\n",
        "We will need this file to export the trained model\n",
        "\n",
        "\n",
        "\n",
        "\n"
      ]
    },
    {
      "cell_type": "markdown",
      "metadata": {
        "id": "5Q5vNzgCJNDa",
        "colab_type": "text"
      },
      "source": [
        "Step 13- Configure the pipeline file.\n",
        "\n",
        "Refer the mentioned [Medium article](https://medium.com/@nisargkapkar/tensorflow-2-object-detection-api-with-google-colab-b2af171e81cc?source=friends_link&sk=0bb205df0e1c29a2e78c28671ddf4494) for more details!"
      ]
    },
    {
      "cell_type": "code",
      "metadata": {
        "id": "7JISAAfK-inS",
        "colab_type": "code",
        "colab": {}
      },
      "source": [
        "#Step 14- Start Tensorboard.\n",
        "\n",
        "#cd into training_demo\n",
        "%cd '/content/gdrive/My Drive/TensorFlow/workspace/training_demo'\n",
        "\n",
        "#start the Tensorboard\n",
        "%load_ext tensorboard\n",
        "%tensorboard --logdir=models/my_ssd_resnet50_v1_fpn\n",
        "\n",
        "# %load_ext tensorboard\n",
        "# %tensorboard --logdir=models/[name_of_pre-trained-model_you_downloaded]"
      ],
      "execution_count": null,
      "outputs": []
    },
    {
      "cell_type": "code",
      "metadata": {
        "id": "e_hgJrWJuC_O",
        "colab_type": "code",
        "colab": {}
      },
      "source": [
        "#optional\n",
        "#code to check how much session time is remaining \n",
        "\n",
        "import time,psutil\n",
        "uptime=time.time()-psutil.boot_time()\n",
        "remaintime=(12*60*60)-uptime\n",
        "print(remaintime/(60*60))"
      ],
      "execution_count": null,
      "outputs": []
    },
    {
      "cell_type": "code",
      "metadata": {
        "id": "yFLP5SUS-vYa",
        "colab_type": "code",
        "colab": {}
      },
      "source": [
        "#Step 15- Train the model.\n",
        "\n",
        "#run the cell to start model training \n",
        "!python model_main_tf2.py --model_dir=models/my_ssd_resnet50_v1_fpn --pipeline_config_path=models/my_ssd_resnet50_v1_fpn/pipeline.config\n",
        "\n",
        "# !python model_main_tf2.py --model_dir=models/[name_of_pre-trained-model_you_downloaded] --pipeline_config_path=models/[name_of_pre-trained-model_you_downloaded]/pipeline.config"
      ],
      "execution_count": null,
      "outputs": []
    },
    {
      "cell_type": "markdown",
      "metadata": {
        "id": "PCmWC2Ae8DjW",
        "colab_type": "text"
      },
      "source": [
        "Congratulations! You have finished model training!"
      ]
    },
    {
      "cell_type": "code",
      "metadata": {
        "id": "zDSirOAQ-0sy",
        "colab_type": "code",
        "colab": {}
      },
      "source": [
        "#Step 16- Export the Trained Model.\n",
        "\n",
        "#run the cell to start model training \n",
        "!python exporter_main_v2.py --input_type image_tensor --pipeline_config_path ./models/my_ssd_resnet50_v1_fpn/pipeline.config --trained_checkpoint_dir ./models/my_ssd_resnet50_v1_fpn/ --output_directory ./exported-models/my_model\n",
        "\n",
        "# !python exporter_main_v2.py --input_type image_tensor --pipeline_config_path ./models/[name_of_pre-trained-model you downloaded]/pipeline.config --trained_checkpoint_dir ./models/[name_of_pre-trained-model_you_downloaded]/ --output_directory ./exported-models/my_model"
      ],
      "execution_count": null,
      "outputs": []
    },
    {
      "cell_type": "markdown",
      "metadata": {
        "id": "tAQWLOON4dZt",
        "colab_type": "text"
      },
      "source": [
        "We have finished training and exporting our model. It's time to test our model!"
      ]
    },
    {
      "cell_type": "code",
      "metadata": {
        "id": "nz2jiOgJ4mUK",
        "colab_type": "code",
        "colab": {}
      },
      "source": [
        "#Step 17- Test the Model.\n",
        "\n",
        "#Loading the saved_model\n",
        "import tensorflow as tf\n",
        "import time\n",
        "from object_detection.utils import label_map_util\n",
        "from object_detection.utils import visualization_utils as viz_utils\n",
        "\n",
        "PATH_TO_SAVED_MODEL=\"/content/gdrive/My Drive/TensorFlow/workspace/training_demo/exported-models/my_model/saved_model\"\n",
        "\n",
        "print('Loading model...', end='')\n",
        "\n",
        "# Load saved model and build the detection function\n",
        "detect_fn=tf.saved_model.load(PATH_TO_SAVED_MODEL)\n",
        "\n",
        "print('Done!')"
      ],
      "execution_count": null,
      "outputs": []
    },
    {
      "cell_type": "code",
      "metadata": {
        "id": "sX--5tHy4-S1",
        "colab_type": "code",
        "colab": {}
      },
      "source": [
        "#Step 18- Testing the Model.\n",
        "\n",
        "#Loading the label_map\n",
        "category_index=label_map_util.create_category_index_from_labelmap(\"/content/gdrive/My Drive/TensorFlow/workspace/training_demo/annotations/label_map.pbtxt\",use_display_name=True)\n",
        "\n",
        "#category_index=label_map_util.create_category_index_from_labelmap([path_to_label_map],use_display_name=True)"
      ],
      "execution_count": null,
      "outputs": []
    },
    {
      "cell_type": "code",
      "metadata": {
        "id": "UURD_H_c5grh",
        "colab_type": "code",
        "colab": {}
      },
      "source": [
        "#Step 19- Testing the Model.\n",
        "\n",
        "#Loading the image\n",
        "img=['/content/img1.jpg','/content/img2.jpg']\n",
        "print(img)\n",
        "\n",
        "#list containing paths of all the images"
      ],
      "execution_count": null,
      "outputs": []
    },
    {
      "cell_type": "code",
      "metadata": {
        "id": "tNLxnQNa54d_",
        "colab_type": "code",
        "colab": {}
      },
      "source": [
        "#Step 20- Running the Inference.\n",
        "\n",
        "import numpy as np\n",
        "from PIL import Image\n",
        "import matplotlib.pyplot as plt\n",
        "import warnings\n",
        "warnings.filterwarnings('ignore')   # Suppress Matplotlib warnings\n",
        "\n",
        "def load_image_into_numpy_array(path):\n",
        "    \"\"\"Load an image from file into a numpy array.\n",
        "\n",
        "    Puts image into numpy array to feed into tensorflow graph.\n",
        "    Note that by convention we put it into a numpy array with shape\n",
        "    (height, width, channels), where channels=3 for RGB.\n",
        "\n",
        "    Args:\n",
        "      path: the file path to the image\n",
        "\n",
        "    Returns:\n",
        "      uint8 numpy array with shape (img_height, img_width, 3)\n",
        "    \"\"\"\n",
        "    return np.array(Image.open(path))\n",
        "\n",
        "for image_path in img:\n",
        "\n",
        "    print('Running inference for {}... '.format(image_path), end='')\n",
        "    image_np=load_image_into_numpy_array(image_path)\n",
        "\n",
        "    # Things to try:\n",
        "    # Flip horizontally\n",
        "    # image_np = np.fliplr(image_np).copy()\n",
        "    # Convert image to grayscale\n",
        "    # image_np = np.tile(\n",
        "    #     np.mean(image_np, 2, keepdims=True), (1, 1, 3)).astype(np.uint8)\n",
        "\n",
        "    # The input needs to be a tensor, convert it using `tf.convert_to_tensor`.\n",
        "    input_tensor=tf.convert_to_tensor(image_np)\n",
        "    # The model expects a batch of images, so add an axis with `tf.newaxis`.\n",
        "    input_tensor=input_tensor[tf.newaxis, ...]\n",
        "\n",
        "    # input_tensor = np.expand_dims(image_np, 0)\n",
        "    detections=detect_fn(input_tensor)\n",
        "\n",
        "    # All outputs are batches tensors.\n",
        "    # Convert to numpy arrays, and take index [0] to remove the batch dimension.\n",
        "    # We're only interested in the first num_detections.\n",
        "    num_detections=int(detections.pop('num_detections'))\n",
        "    detections={key:value[0,:num_detections].numpy()\n",
        "                   for key,value in detections.items()}\n",
        "    detections['num_detections']=num_detections\n",
        "\n",
        "    # detection_classes should be ints.\n",
        "    detections['detection_classes']=detections['detection_classes'].astype(np.int64)\n",
        "\n",
        "    image_np_with_detections=image_np.copy()\n",
        "\n",
        "    viz_utils.visualize_boxes_and_labels_on_image_array(\n",
        "          image_np_with_detections,\n",
        "          detections['detection_boxes'],\n",
        "          detections['detection_classes'],\n",
        "          detections['detection_scores'],\n",
        "          category_index,\n",
        "          use_normalized_coordinates=True,\n",
        "          max_boxes_to_draw=1,     #max number of bounding boxes in the image\n",
        "          min_score_thresh=.3,      #min prediction threshold\n",
        "          agnostic_mode=False)\n",
        "    %matplotlib inline\n",
        "    plt.figure()\n",
        "    plt.imshow(image_np_with_detections)\n",
        "    print('Done')\n",
        "    plt.show()"
      ],
      "execution_count": null,
      "outputs": []
    },
    {
      "cell_type": "markdown",
      "metadata": {
        "id": "hAQv8465ZGsP",
        "colab_type": "text"
      },
      "source": [
        "Acknowledgements:\n",
        "\n",
        "Huge Thanks to [Lyudmil Vladimirov](http://pcwww.liv.ac.uk/~sglvladi/) for allowing me to use some of the content from their amazing [TensorFlow 2 Object Detection API](https://tensorflow-object-detection-api-tutorial.readthedocs.io/en/latest/index.html) for Local Machines!\n",
        "\n",
        "Link to their [GitHub Repository](https://github.com/sglvladi/TensorFlowObjectDetectionTutorial)."
      ]
    }
  ]
}
